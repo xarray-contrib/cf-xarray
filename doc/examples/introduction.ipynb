{
 "cells": [
  {
   "cell_type": "markdown",
   "metadata": {},
   "source": [
    "# Introduction to `cf_xarray`\n",
    "\n",
    "This notebook is a brief introduction to `cf_xarray`'s current capabilities.\n"
   ]
  },
  {
   "cell_type": "code",
   "execution_count": null,
   "metadata": {
    "ExecuteTime": {
     "end_time": "2020-07-28T03:18:03.264499Z",
     "start_time": "2020-07-28T03:18:01.706628Z"
    }
   },
   "outputs": [],
   "source": [
    "import cf_xarray\n",
    "import numpy as np\n",
    "import xarray as xr\n",
    "\n",
    "xr.set_options(display_style=\"text\")  # work around issue 57"
   ]
  },
  {
   "cell_type": "markdown",
   "metadata": {},
   "source": [
    "Lets read two datasets.\n"
   ]
  },
  {
   "cell_type": "code",
   "execution_count": null,
   "metadata": {
    "ExecuteTime": {
     "end_time": "2020-07-28T03:18:03.355688Z",
     "start_time": "2020-07-28T03:18:03.266006Z"
    }
   },
   "outputs": [],
   "source": [
    "ds = xr.tutorial.load_dataset(\"air_temperature\")\n",
    "ds.air.attrs[\"standard_name\"] = \"air_temperature\"\n",
    "ds"
   ]
  },
  {
   "cell_type": "markdown",
   "metadata": {},
   "source": [
    "This one is inspired by POP model output and illustrates how the coordinates\n",
    "attribute is interpreted. It also illustrates one way of tagging curvilinear\n",
    "grids for convenient use of `cf_xarray`\n"
   ]
  },
  {
   "cell_type": "code",
   "execution_count": null,
   "metadata": {
    "ExecuteTime": {
     "end_time": "2020-07-28T03:18:03.418465Z",
     "start_time": "2020-07-28T03:18:03.357132Z"
    }
   },
   "outputs": [],
   "source": [
    "pop = xr.Dataset()\n",
    "\n",
    "# set 2D coordinate variables as latitude, longitude\n",
    "pop.coords[\"TLONG\"] = (\n",
    "    (\"nlat\", \"nlon\"),\n",
    "    np.ones((20, 30)),\n",
    "    {\"units\": \"degrees_east\"},\n",
    ")\n",
    "pop.coords[\"TLAT\"] = (\n",
    "    (\"nlat\", \"nlon\"),\n",
    "    2 * np.ones((20, 30)),\n",
    "    {\"units\": \"degrees_north\"},\n",
    ")\n",
    "pop.coords[\"ULONG\"] = (\n",
    "    (\"nlat\", \"nlon\"),\n",
    "    0.5 * np.ones((20, 30)),\n",
    "    {\"units\": \"degrees_east\"},\n",
    ")\n",
    "pop.coords[\"ULAT\"] = (\n",
    "    (\"nlat\", \"nlon\"),\n",
    "    2.5 * np.ones((20, 30)),\n",
    "    {\"units\": \"degrees_north\"},\n",
    ")\n",
    "\n",
    "# set dimensions as X, Y\n",
    "pop[\"nlon\"] = (\"nlon\", np.arange(pop.sizes[\"nlon\"]), {\"axis\": \"X\"})\n",
    "pop[\"nlat\"] = (\"nlat\", np.arange(pop.sizes[\"nlat\"]), {\"axis\": \"Y\"})\n",
    "\n",
    "# actual data vriables with coordinates attribute set\n",
    "pop[\"UVEL\"] = (\n",
    "    (\"nlat\", \"nlon\"),\n",
    "    np.ones((20, 30)) * 15,\n",
    "    {\"coordinates\": \"ULONG ULAT\", \"standard_name\": \"sea_water_x_velocity\"},\n",
    ")\n",
    "pop[\"TEMP\"] = (\n",
    "    (\"nlat\", \"nlon\"),\n",
    "    np.ones((20, 30)) * 15,\n",
    "    {\n",
    "        \"coordinates\": \"TLONG TLAT\",\n",
    "        \"standard_name\": \"sea_water_potential_temperature\",\n",
    "    },\n",
    ")\n",
    "pop"
   ]
  },
  {
   "cell_type": "markdown",
   "metadata": {},
   "source": [
    "This synthetic dataset has multiple `X` and `Y` coords. An example would be\n",
    "model output on a staggered grid.\n"
   ]
  },
  {
   "cell_type": "code",
   "execution_count": null,
   "metadata": {
    "ExecuteTime": {
     "end_time": "2020-07-28T03:18:03.468916Z",
     "start_time": "2020-07-28T03:18:03.420053Z"
    }
   },
   "outputs": [],
   "source": [
    "multiple = xr.Dataset()\n",
    "multiple.coords[\"x1\"] = (\"x1\", range(30), {\"axis\": \"X\"})\n",
    "multiple.coords[\"y1\"] = (\"y1\", range(20), {\"axis\": \"Y\"})\n",
    "multiple.coords[\"x2\"] = (\"x2\", range(10), {\"axis\": \"X\"})\n",
    "multiple.coords[\"y2\"] = (\"y2\", range(5), {\"axis\": \"Y\"})\n",
    "\n",
    "multiple[\"v1\"] = ((\"x1\", \"y1\"), np.ones((30, 20)) * 15)\n",
    "multiple[\"v2\"] = ((\"x2\", \"y2\"), np.ones((10, 5)) * 15)\n",
    "multiple"
   ]
  },
  {
   "cell_type": "code",
   "execution_count": null,
   "metadata": {
    "ExecuteTime": {
     "end_time": "2020-07-28T03:18:03.496952Z",
     "start_time": "2020-07-28T03:18:03.470068Z"
    }
   },
   "outputs": [],
   "source": [
    "# This dataset has ancillary variables\n",
    "\n",
    "anc = xr.Dataset()\n",
    "anc[\"q\"] = (\n",
    "    (\"x\", \"y\"),\n",
    "    np.random.randn(10, 20),\n",
    "    dict(\n",
    "        standard_name=\"specific_humidity\",\n",
    "        units=\"g/g\",\n",
    "        ancillary_variables=\"q_error_limit q_detection_limit\",\n",
    "    ),\n",
    ")\n",
    "anc[\"q_error_limit\"] = (\n",
    "    (\"x\", \"y\"),\n",
    "    np.random.randn(10, 20),\n",
    "    dict(standard_name=\"specific_humidity standard_error\", units=\"g/g\"),\n",
    ")\n",
    "anc[\"q_detection_limit\"] = xr.DataArray(\n",
    "    1e-3,\n",
    "    attrs=dict(\n",
    "        standard_name=\"specific_humidity detection_minimum\", units=\"g/g\"\n",
    "    ),\n",
    ")\n",
    "anc"
   ]
  },
  {
   "cell_type": "markdown",
   "metadata": {},
   "source": [
    "## What attributes have been discovered?\n"
   ]
  },
  {
   "cell_type": "code",
   "execution_count": null,
   "metadata": {
    "ExecuteTime": {
     "end_time": "2020-07-28T03:18:03.528010Z",
     "start_time": "2020-07-28T03:18:03.498427Z"
    }
   },
   "outputs": [],
   "source": [
    "ds.lon"
   ]
  },
  {
   "cell_type": "markdown",
   "metadata": {},
   "source": [
    "`ds.lon` has attributes `axis: X`. This means that `cf_xarray` can identify the\n",
    "`'X'` axis as being represented by the `lon` variable.\n",
    "\n",
    "It can also use the `standard_name` and `units` attributes to infer that `lon`\n",
    "is \"Longitude\". To see variable names that `cf_xarray` can infer, use\n",
    "`.cf.describe()`\n"
   ]
  },
  {
   "cell_type": "code",
   "execution_count": null,
   "metadata": {
    "ExecuteTime": {
     "end_time": "2020-07-28T03:18:03.546588Z",
     "start_time": "2020-07-28T03:18:03.529734Z"
    }
   },
   "outputs": [],
   "source": [
    "ds.cf.describe()"
   ]
  },
  {
   "cell_type": "markdown",
   "metadata": {},
   "source": [
    "For `pop`, only `latitude` and `longitude` are detected, not `X` or `Y`. Please\n",
    "comment here: https://github.com/xarray-contrib/cf-xarray/issues/23 if you have\n",
    "opinions about this behaviour.\n"
   ]
  },
  {
   "cell_type": "code",
   "execution_count": null,
   "metadata": {
    "ExecuteTime": {
     "end_time": "2020-07-28T03:18:03.565233Z",
     "start_time": "2020-07-28T03:18:03.547756Z"
    }
   },
   "outputs": [],
   "source": [
    "pop.cf.describe()"
   ]
  },
  {
   "cell_type": "markdown",
   "metadata": {},
   "source": [
    "For `multiple`, multiple `X` and `Y` coordinates are detected\n"
   ]
  },
  {
   "cell_type": "code",
   "execution_count": null,
   "metadata": {
    "ExecuteTime": {
     "end_time": "2020-07-28T03:18:03.595027Z",
     "start_time": "2020-07-28T03:18:03.566478Z"
    }
   },
   "outputs": [],
   "source": [
    "multiple.cf.describe()"
   ]
  },
  {
   "cell_type": "markdown",
   "metadata": {},
   "source": [
    "## Feature: Accessing coordinate variables\n",
    "\n",
    "`.cf` implements `__getitem__` to allow easy access to coordinate and axis\n",
    "variables.\n"
   ]
  },
  {
   "cell_type": "code",
   "execution_count": null,
   "metadata": {
    "ExecuteTime": {
     "end_time": "2020-07-28T03:26:55.667604Z",
     "start_time": "2020-07-28T03:26:55.475896Z"
    }
   },
   "outputs": [],
   "source": [
    "ds.cf[\"X\"]"
   ]
  },
  {
   "cell_type": "markdown",
   "metadata": {},
   "source": [
    "Indexing with a scalar key raises an error if the key maps to multiple variables\n",
    "names\n"
   ]
  },
  {
   "cell_type": "code",
   "execution_count": null,
   "metadata": {
    "ExecuteTime": {
     "end_time": "2020-07-28T03:27:00.228638Z",
     "start_time": "2020-07-28T03:27:00.209975Z"
    },
    "tags": [
     "raises-exception"
    ]
   },
   "outputs": [],
   "source": [
    "multiple.cf[\"X\"]"
   ]
  },
  {
   "cell_type": "code",
   "execution_count": null,
   "metadata": {
    "ExecuteTime": {
     "end_time": "2020-07-28T03:28:23.253247Z",
     "start_time": "2020-07-28T03:28:23.213761Z"
    },
    "tags": [
     "raises-exception"
    ]
   },
   "outputs": [],
   "source": [
    "pop.cf[\"longitude\"]"
   ]
  },
  {
   "cell_type": "markdown",
   "metadata": {},
   "source": [
    "To get back all variables associated with that key, pass a single element list\n",
    "instead.\n"
   ]
  },
  {
   "cell_type": "code",
   "execution_count": null,
   "metadata": {
    "ExecuteTime": {
     "end_time": "2020-07-28T03:28:31.727351Z",
     "start_time": "2020-07-28T03:28:31.676094Z"
    }
   },
   "outputs": [],
   "source": [
    "multiple.cf[[\"X\"]]"
   ]
  },
  {
   "cell_type": "code",
   "execution_count": null,
   "metadata": {
    "ExecuteTime": {
     "end_time": "2020-07-28T03:28:35.927895Z",
     "start_time": "2020-07-28T03:28:35.867609Z"
    }
   },
   "outputs": [],
   "source": [
    "pop.cf[[\"longitude\"]]"
   ]
  },
  {
   "cell_type": "markdown",
   "metadata": {},
   "source": [
    "DataArrays return DataArrays\n"
   ]
  },
  {
   "cell_type": "code",
   "execution_count": null,
   "metadata": {
    "ExecuteTime": {
     "end_time": "2020-07-28T03:28:50.626127Z",
     "start_time": "2020-07-28T03:28:50.526332Z"
    }
   },
   "outputs": [],
   "source": [
    "pop.UVEL.cf[\"longitude\"]"
   ]
  },
  {
   "cell_type": "markdown",
   "metadata": {},
   "source": [
    "`Dataset.cf[...]` returns a single `DataArray`, parsing the `coordinates`\n",
    "attribute if present, so we correctly get the `TLONG` variable and not the\n",
    "`ULONG` variable\n"
   ]
  },
  {
   "cell_type": "code",
   "execution_count": null,
   "metadata": {
    "ExecuteTime": {
     "end_time": "2020-07-28T03:28:08.240638Z",
     "start_time": "2020-07-28T03:28:08.170572Z"
    },
    "scrolled": true
   },
   "outputs": [],
   "source": [
    "pop.cf[\"TEMP\"]"
   ]
  },
  {
   "cell_type": "markdown",
   "metadata": {},
   "source": [
    "`Dataset.cf[...]` also interprets the `ancillary_variables` attribute. The\n",
    "ancillary variables are returned as coordinates of a DataArray\n"
   ]
  },
  {
   "cell_type": "code",
   "execution_count": null,
   "metadata": {
    "ExecuteTime": {
     "end_time": "2020-07-28T03:28:09.922569Z",
     "start_time": "2020-07-28T03:28:09.866452Z"
    },
    "scrolled": true
   },
   "outputs": [],
   "source": [
    "anc.cf[\"q\"]"
   ]
  },
  {
   "cell_type": "markdown",
   "metadata": {},
   "source": [
    "## Feature: Accessing variables by standard names\n"
   ]
  },
  {
   "cell_type": "code",
   "execution_count": null,
   "metadata": {
    "ExecuteTime": {
     "end_time": "2020-07-28T03:18:03.776855Z",
     "start_time": "2020-07-28T03:18:01.700Z"
    }
   },
   "outputs": [],
   "source": [
    "pop.cf[[\"sea_water_potential_temperature\", \"UVEL\"]]"
   ]
  },
  {
   "cell_type": "code",
   "execution_count": null,
   "metadata": {
    "ExecuteTime": {
     "end_time": "2020-07-28T03:18:03.777981Z",
     "start_time": "2020-07-28T03:18:01.700Z"
    }
   },
   "outputs": [],
   "source": [
    "anc.cf[\"specific_humidity\"]"
   ]
  },
  {
   "cell_type": "markdown",
   "metadata": {},
   "source": [
    "## Feature: Utility functions\n",
    "\n",
    "There are some utility functions to allow use by downstream libraries\n"
   ]
  },
  {
   "cell_type": "code",
   "execution_count": null,
   "metadata": {
    "ExecuteTime": {
     "end_time": "2020-07-28T03:18:03.779098Z",
     "start_time": "2020-07-28T03:18:01.700Z"
    }
   },
   "outputs": [],
   "source": [
    "pop.cf.keys()"
   ]
  },
  {
   "cell_type": "markdown",
   "metadata": {},
   "source": [
    "You can test for presence of these keys\n"
   ]
  },
  {
   "cell_type": "code",
   "execution_count": null,
   "metadata": {
    "ExecuteTime": {
     "end_time": "2020-07-28T03:18:03.780223Z",
     "start_time": "2020-07-28T03:18:01.800Z"
    }
   },
   "outputs": [],
   "source": [
    "\"sea_water_x_velocity\" in pop.cf"
   ]
  },
  {
   "cell_type": "markdown",
   "metadata": {},
   "source": [
    "You can also get out the available Axis names\n"
   ]
  },
  {
   "cell_type": "code",
   "execution_count": null,
   "metadata": {},
   "outputs": [],
   "source": [
    "pop.cf.axes"
   ]
  },
  {
   "cell_type": "markdown",
   "metadata": {},
   "source": [
    "or available Coordinate names. Same for cell measures (`.cf.cell_measures`) and\n",
    "standard names (`.cf.standard_names`).\n"
   ]
  },
  {
   "cell_type": "code",
   "execution_count": null,
   "metadata": {},
   "outputs": [],
   "source": [
    "pop.cf.coordinates"
   ]
  },
  {
   "cell_type": "markdown",
   "metadata": {},
   "source": [
    "**Note:** Although it is possible to assign additional coordinates and cell\n",
    "measures, `.cf.coordinates` and `.cf.cell_measures` only return a subset of\n",
    "`(\"longitude\", \"latitude\", \"vertical\", \"time\")` and `(\"area\", \"volume\")`,\n",
    "respectively.\n"
   ]
  },
  {
   "cell_type": "markdown",
   "metadata": {},
   "source": [
    "## Feature: Rewriting property dictionaries\n",
    "\n",
    "`cf_xarray` will rewrite the `.sizes` and `.chunks` dictionaries so that one can\n",
    "index by a special CF axis or coordinate name\n"
   ]
  },
  {
   "cell_type": "code",
   "execution_count": null,
   "metadata": {
    "ExecuteTime": {
     "end_time": "2020-07-28T03:18:03.781216Z",
     "start_time": "2020-07-28T03:18:01.800Z"
    }
   },
   "outputs": [],
   "source": [
    "ds.cf.sizes"
   ]
  },
  {
   "cell_type": "markdown",
   "metadata": {},
   "source": [
    "Note the duplicate entries above:\n",
    "\n",
    "1. One for `X`, `Y`, `T`\n",
    "2. and one for `longitude`, `latitude` and `time`.\n",
    "\n",
    "An error is raised if there are multiple `'X'` variables (for example)\n"
   ]
  },
  {
   "cell_type": "code",
   "execution_count": null,
   "metadata": {
    "ExecuteTime": {
     "end_time": "2020-07-28T03:18:03.782014Z",
     "start_time": "2020-07-28T03:18:01.800Z"
    },
    "tags": [
     "raises-exception"
    ]
   },
   "outputs": [],
   "source": [
    "multiple.cf.sizes"
   ]
  },
  {
   "cell_type": "code",
   "execution_count": null,
   "metadata": {
    "ExecuteTime": {
     "end_time": "2020-07-28T03:18:03.782723Z",
     "start_time": "2020-07-28T03:18:01.800Z"
    }
   },
   "outputs": [],
   "source": [
    "multiple.v1.cf.sizes"
   ]
  },
  {
   "cell_type": "markdown",
   "metadata": {},
   "source": [
    "## Feature: Renaming coordinate variables\n",
    "\n",
    "`cf_xarray` lets you rewrite coordinate variables in one dataset to like\n",
    "variables in another dataset. This can only be done when a one-to-one mapping is\n",
    "possible\n",
    "\n",
    "In this example, `TLONG` and `TLAT` are renamed to `lon` and `lat` i.e. their\n",
    "counterparts in `ds`. Note the the `coordinates` attribute is appropriately\n",
    "changed.\n"
   ]
  },
  {
   "cell_type": "code",
   "execution_count": null,
   "metadata": {
    "ExecuteTime": {
     "end_time": "2020-07-28T03:18:03.783410Z",
     "start_time": "2020-07-28T03:18:01.800Z"
    }
   },
   "outputs": [],
   "source": [
    "pop.cf[\"TEMP\"].cf.rename_like(ds)"
   ]
  },
  {
   "cell_type": "markdown",
   "metadata": {},
   "source": [
    "## Feature: Rewriting arguments\n",
    "\n",
    "`cf_xarray` can rewrite arguments for a large number of xarray functions. By\n",
    "this I mean that instead of specifing say `dim=\"lon\"`, you can pass `dim=\"X\"` or\n",
    "`dim=\"longitude\"` and `cf_xarray` will rewrite that to `dim=\"lon\"` based on the\n",
    "attributes present in the dataset.\n",
    "\n",
    "Here are a few examples\n"
   ]
  },
  {
   "cell_type": "markdown",
   "metadata": {},
   "source": [
    "### Slicing\n"
   ]
  },
  {
   "cell_type": "code",
   "execution_count": null,
   "metadata": {
    "ExecuteTime": {
     "end_time": "2020-07-28T03:18:03.783972Z",
     "start_time": "2020-07-28T03:18:01.800Z"
    }
   },
   "outputs": [],
   "source": [
    "ds.air.cf.isel(T=1)"
   ]
  },
  {
   "cell_type": "markdown",
   "metadata": {},
   "source": [
    "Slicing works will expand a single key like `X` to multiple dimensions if those\n",
    "dimensions are tagged with `axis: X`\n"
   ]
  },
  {
   "cell_type": "code",
   "execution_count": null,
   "metadata": {
    "ExecuteTime": {
     "end_time": "2020-07-28T03:18:03.784592Z",
     "start_time": "2020-07-28T03:18:01.800Z"
    }
   },
   "outputs": [],
   "source": [
    "multiple.cf.isel(X=1, Y=1)"
   ]
  },
  {
   "cell_type": "markdown",
   "metadata": {},
   "source": [
    "### Reductions\n"
   ]
  },
  {
   "cell_type": "code",
   "execution_count": null,
   "metadata": {
    "ExecuteTime": {
     "end_time": "2020-07-28T03:18:03.785151Z",
     "start_time": "2020-07-28T03:18:01.800Z"
    }
   },
   "outputs": [],
   "source": [
    "ds.air.cf.mean(\"X\")"
   ]
  },
  {
   "cell_type": "markdown",
   "metadata": {},
   "source": [
    "Expanding to multiple dimensions is also supported\n"
   ]
  },
  {
   "cell_type": "code",
   "execution_count": null,
   "metadata": {
    "ExecuteTime": {
     "end_time": "2020-07-28T03:18:03.785772Z",
     "start_time": "2020-07-28T03:18:01.800Z"
    }
   },
   "outputs": [],
   "source": [
    "# takes the mean along [\"x1\", \"x2\"]\n",
    "multiple.cf.mean(\"X\")"
   ]
  },
  {
   "cell_type": "markdown",
   "metadata": {},
   "source": [
    "### Plotting\n"
   ]
  },
  {
   "cell_type": "code",
   "execution_count": null,
   "metadata": {
    "ExecuteTime": {
     "end_time": "2020-07-28T03:18:03.786551Z",
     "start_time": "2020-07-28T03:18:01.800Z"
    }
   },
   "outputs": [],
   "source": [
    "ds.air.cf.isel(time=1).cf.plot(x=\"X\", y=\"Y\")"
   ]
  },
  {
   "cell_type": "code",
   "execution_count": null,
   "metadata": {
    "ExecuteTime": {
     "end_time": "2020-07-28T03:18:03.787186Z",
     "start_time": "2020-07-28T03:18:01.800Z"
    }
   },
   "outputs": [],
   "source": [
    "ds.air.cf.isel(T=1, Y=[0, 1, 2]).cf.plot(x=\"longitude\", hue=\"latitude\")"
   ]
  },
  {
   "cell_type": "markdown",
   "metadata": {},
   "source": [
    "`cf_xarray` can facet\n"
   ]
  },
  {
   "cell_type": "code",
   "execution_count": null,
   "metadata": {
    "ExecuteTime": {
     "end_time": "2020-07-28T03:18:03.787907Z",
     "start_time": "2020-07-28T03:18:01.800Z"
    }
   },
   "outputs": [],
   "source": [
    "seasonal = (\n",
    "    ds.air.groupby(\"time.season\")\n",
    "    .mean()\n",
    "    .reindex(season=[\"DJF\", \"MAM\", \"JJA\", \"SON\"])\n",
    ")\n",
    "seasonal.cf.plot(x=\"longitude\", y=\"latitude\", col=\"season\")"
   ]
  },
  {
   "cell_type": "markdown",
   "metadata": {},
   "source": [
    "### Resample & groupby\n"
   ]
  },
  {
   "cell_type": "code",
   "execution_count": null,
   "metadata": {
    "ExecuteTime": {
     "end_time": "2020-07-28T03:18:03.788564Z",
     "start_time": "2020-07-28T03:18:01.800Z"
    }
   },
   "outputs": [],
   "source": [
    "ds.cf.resample(T=\"D\").mean()"
   ]
  },
  {
   "cell_type": "markdown",
   "metadata": {},
   "source": [
    "`cf_xarray` also understands the \"datetime accessor\" syntax for groupby\n"
   ]
  },
  {
   "cell_type": "code",
   "execution_count": null,
   "metadata": {
    "ExecuteTime": {
     "end_time": "2020-07-28T03:18:03.789223Z",
     "start_time": "2020-07-28T03:18:01.900Z"
    }
   },
   "outputs": [],
   "source": [
    "ds.cf.groupby(\"T.month\").mean(\"longitude\")"
   ]
  },
  {
   "cell_type": "markdown",
   "metadata": {},
   "source": [
    "### Rolling & coarsen\n"
   ]
  },
  {
   "cell_type": "code",
   "execution_count": null,
   "metadata": {
    "ExecuteTime": {
     "end_time": "2020-07-28T03:18:03.789803Z",
     "start_time": "2020-07-28T03:18:01.900Z"
    }
   },
   "outputs": [],
   "source": [
    "ds.cf.rolling(X=5).mean()"
   ]
  },
  {
   "cell_type": "markdown",
   "metadata": {
    "ExecuteTime": {
     "end_time": "2020-06-12T20:31:46.708776Z",
     "start_time": "2020-06-12T20:31:46.525974Z"
    }
   },
   "source": [
    "`coarsen` works but everything later will break because of xarray bug\n",
    "https://github.com/pydata/xarray/issues/4120\n",
    "\n",
    "`ds.isel(lon=slice(50)).cf.coarsen(Y=5, X=10).mean()`\n"
   ]
  },
  {
   "cell_type": "markdown",
   "metadata": {},
   "source": [
    "## Feature: mix \"special names\" and variable names\n"
   ]
  },
  {
   "cell_type": "code",
   "execution_count": null,
   "metadata": {
    "ExecuteTime": {
     "end_time": "2020-07-28T03:18:03.790416Z",
     "start_time": "2020-07-28T03:18:01.900Z"
    }
   },
   "outputs": [],
   "source": [
    "ds.cf.groupby(\"T.month\").mean([\"lat\", \"X\"])"
   ]
  },
  {
   "cell_type": "markdown",
   "metadata": {},
   "source": [
    "## Feature: Weight by Cell Measures\n",
    "\n",
    "`cf_xarray` can weight by cell measure variables `\"area\"` and `\"volume\"` if the\n",
    "appropriate attribute is set\n"
   ]
  },
  {
   "cell_type": "code",
   "execution_count": null,
   "metadata": {
    "ExecuteTime": {
     "end_time": "2020-07-28T03:18:03.791021Z",
     "start_time": "2020-07-28T03:18:01.900Z"
    }
   },
   "outputs": [],
   "source": [
    "# Lets make some weights (not sure if this is right)\n",
    "ds.coords[\"cell_area\"] = (\n",
    "    np.cos(ds.air.cf[\"latitude\"] * np.pi / 180)\n",
    "    * xr.ones_like(ds.air.cf[\"longitude\"])\n",
    "    * 105e3\n",
    "    * 110e3\n",
    ")\n",
    "# and set proper attributes\n",
    "ds.air.attrs[\"cell_measures\"] = \"area: cell_area\""
   ]
  },
  {
   "cell_type": "code",
   "execution_count": null,
   "metadata": {
    "ExecuteTime": {
     "end_time": "2020-07-28T03:18:03.791751Z",
     "start_time": "2020-07-28T03:18:01.900Z"
    }
   },
   "outputs": [],
   "source": [
    "ds.air.cf.weighted(\"area\").mean([\"latitude\", \"time\"]).cf.plot(x=\"longitude\")\n",
    "ds.air.mean([\"lat\", \"time\"]).cf.plot(x=\"longitude\")"
   ]
  },
  {
   "cell_type": "markdown",
   "metadata": {},
   "source": [
    "## Feature: Cell boundaries and vertices\n",
    "\n",
    "`cf_xarray` can infer cell boundaries (for rectilinear grids) and convert\n",
    "CF-standard bounds variables to vertices.\n"
   ]
  },
  {
   "cell_type": "code",
   "execution_count": null,
   "metadata": {},
   "outputs": [],
   "source": [
    "ds_bnds = ds.cf.add_bounds([\"lat\", \"lon\"])\n",
    "ds_bnds"
   ]
  },
  {
   "cell_type": "code",
   "execution_count": null,
   "metadata": {},
   "outputs": [],
   "source": [
    "# We can convert each bounds variable independently with the helper:\n",
    "import cf_xarray as cfxr\n",
    "\n",
    "lat_bounds = ds_bnds.cf.get_bounds(\"latitude\")\n",
    "\n",
    "lat_vertices = cfxr.bounds_to_vertices(lat_bounds, bounds_dim=\"bounds\")\n",
    "lat_vertices"
   ]
  },
  {
   "cell_type": "code",
   "execution_count": null,
   "metadata": {},
   "outputs": [],
   "source": [
    "# Or we can convert _all_ bounds variables on a dataset\n",
    "ds_crns = ds_bnds.cf.bounds_to_vertices()\n",
    "ds_crns"
   ]
  }
 ],
 "metadata": {
  "kernelspec": {
   "display_name": "Python 3",
   "language": "python",
   "name": "python3"
  },
  "language_info": {
   "codemirror_mode": {
    "name": "ipython",
    "version": 3
   },
   "file_extension": ".py",
   "mimetype": "text/x-python",
   "name": "python",
   "nbconvert_exporter": "python",
   "pygments_lexer": "ipython3",
   "version": "3.7.3"
  },
  "toc": {
   "base_numbering": 1,
   "nav_menu": {},
   "number_sections": true,
   "sideBar": true,
   "skip_h1_title": false,
   "title_cell": "Table of Contents",
   "title_sidebar": "Contents",
   "toc_cell": true,
   "toc_position": {},
   "toc_section_display": true,
   "toc_window_display": true
  },
  "widgets": {
   "application/vnd.jupyter.widget-state+json": {
    "state": {},
    "version_major": 2,
    "version_minor": 0
   }
  }
 },
 "nbformat": 4,
 "nbformat_minor": 4
}
