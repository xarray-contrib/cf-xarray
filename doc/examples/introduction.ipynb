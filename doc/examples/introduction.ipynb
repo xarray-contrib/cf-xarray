{
 "cells": [
  {
   "cell_type": "markdown",
   "metadata": {
    "toc": true
   },
   "source": [
    "<h1>Table of Contents<span class=\"tocSkip\"></span></h1>\n",
    "<div class=\"toc\"><ul class=\"toc-item\"><li><span><a href=\"#What-attributes-have-been-discovered?\" data-toc-modified-id=\"What-attributes-have-been-discovered?-1\"><span class=\"toc-item-num\">1&nbsp;&nbsp;</span>What attributes have been discovered?</a></span></li><li><span><a href=\"#Features\" data-toc-modified-id=\"Features-2\"><span class=\"toc-item-num\">2&nbsp;&nbsp;</span>Features</a></span><ul class=\"toc-item\"><li><span><a href=\"#Accessing-coordinate-variables\" data-toc-modified-id=\"Accessing-coordinate-variables-2.1\"><span class=\"toc-item-num\">2.1&nbsp;&nbsp;</span>Accessing coordinate variables</a></span></li><li><span><a href=\"#Rewriting-arguments\" data-toc-modified-id=\"Rewriting-arguments-2.2\"><span class=\"toc-item-num\">2.2&nbsp;&nbsp;</span>Rewriting arguments</a></span><ul class=\"toc-item\"><li><span><a href=\"#Slicing\" data-toc-modified-id=\"Slicing-2.2.1\"><span class=\"toc-item-num\">2.2.1&nbsp;&nbsp;</span>Slicing</a></span></li><li><span><a href=\"#Plotting\" data-toc-modified-id=\"Plotting-2.2.2\"><span class=\"toc-item-num\">2.2.2&nbsp;&nbsp;</span>Plotting</a></span></li><li><span><a href=\"#Resample-&amp;-groupby\" data-toc-modified-id=\"Resample-&amp;-groupby-2.2.3\"><span class=\"toc-item-num\">2.2.3&nbsp;&nbsp;</span>Resample &amp; groupby</a></span></li><li><span><a href=\"#Rolling-&amp;-coarsen\" data-toc-modified-id=\"Rolling-&amp;-coarsen-2.2.4\"><span class=\"toc-item-num\">2.2.4&nbsp;&nbsp;</span>Rolling &amp; coarsen</a></span></li><li><span><a href=\"#miscellaneous-features\" data-toc-modified-id=\"miscellaneous-features-2.2.5\"><span class=\"toc-item-num\">2.2.5&nbsp;&nbsp;</span>miscellaneous features</a></span></li></ul></li><li><span><a href=\"#Augmented-functionality\" data-toc-modified-id=\"Augmented-functionality-2.3\"><span class=\"toc-item-num\">2.3&nbsp;&nbsp;</span>Augmented functionality</a></span><ul class=\"toc-item\"><li><span><a href=\"#Cell-Measures\" data-toc-modified-id=\"Cell-Measures-2.3.1\"><span class=\"toc-item-num\">2.3.1&nbsp;&nbsp;</span>Cell Measures</a></span></li></ul></li></ul></li></ul></div>"
   ]
  },
  {
   "cell_type": "markdown",
   "metadata": {},
   "source": [
    "This is a brief introduction to `cf_xarray`'s capabilities."
   ]
  },
  {
   "cell_type": "code",
   "execution_count": null,
   "metadata": {
    "ExecuteTime": {
     "end_time": "2020-06-12T20:35:44.967831Z",
     "start_time": "2020-06-12T20:35:44.943306Z"
    }
   },
   "outputs": [],
   "source": [
    "import cf_xarray\n",
    "import numpy as np\n",
    "import xarray as xr"
   ]
  },
  {
   "cell_type": "markdown",
   "metadata": {},
   "source": [
    "Lets read two datasets."
   ]
  },
  {
   "cell_type": "code",
   "execution_count": null,
   "metadata": {
    "ExecuteTime": {
     "end_time": "2020-06-12T20:33:37.322927Z",
     "start_time": "2020-06-12T20:33:37.262000Z"
    }
   },
   "outputs": [],
   "source": [
    "ds = xr.tutorial.load_dataset(\"air_temperature\")\n",
    "ds"
   ]
  },
  {
   "cell_type": "markdown",
   "metadata": {},
   "source": [
    "This one is inspired by POP model output and illustrates how the coordinates attribute is interpreted"
   ]
  },
  {
   "cell_type": "code",
   "execution_count": null,
   "metadata": {
    "ExecuteTime": {
     "end_time": "2020-06-12T20:40:55.378756Z",
     "start_time": "2020-06-12T20:40:55.338717Z"
    }
   },
   "outputs": [],
   "source": [
    "pop = xr.Dataset()\n",
    "pop.coords[\"TLONG\"] = ((\"nlat\", \"nlon\"), np.ones((20, 30)), {\"units\": \"degrees_east\"})\n",
    "pop.coords[\"TLAT\"] = ((\"nlat\", \"nlon\"), 2 * np.ones((20, 30)), {\"units\": \"degrees_north\"})\n",
    "pop.coords[\"ULONG\"] = ((\"nlat\", \"nlon\"), 0.5 * np.ones((20, 30)), {\"units\": \"degrees_east\"})\n",
    "pop.coords[\"ULAT\"] = ((\"nlat\", \"nlon\"), 2.5 * np.ones((20, 30)), {\"units\": \"degrees_north\"})\n",
    "\n",
    "pop[\"UVEL\"] = (\n",
    "    (\"nlat\", \"nlon\"),\n",
    "    np.ones((20, 30)) * 15,\n",
    "    {\"coordinates\": \"ULONG ULAT\"},\n",
    ")\n",
    "pop[\"TEMP\"] = (\n",
    "    (\"nlat\", \"nlon\"),\n",
    "    np.ones((20, 30)) * 15,\n",
    "    {\"coordinates\": \"TLONG TLAT\"},\n",
    ")\n"
   ]
  },
  {
   "cell_type": "markdown",
   "metadata": {},
   "source": [
    "# What attributes have been discovered?"
   ]
  },
  {
   "cell_type": "code",
   "execution_count": null,
   "metadata": {
    "ExecuteTime": {
     "end_time": "2020-06-12T20:25:12.597651Z",
     "start_time": "2020-06-12T20:25:12.554432Z"
    }
   },
   "outputs": [],
   "source": [
    "ds.lon"
   ]
  },
  {
   "cell_type": "markdown",
   "metadata": {},
   "source": [
    "`ds.lon` has attributes `axis: X`. This means that `cf_xarray` can identify the `'X'` axis as being represented by the `lon` variable.\n",
    "\n",
    "It can also use the `standard_name` and `units` attributes to infer that `lon` is \"Longitude\". To see variable names that `cf_xarray` can infer, use `.cf.describe()`"
   ]
  },
  {
   "cell_type": "code",
   "execution_count": null,
   "metadata": {
    "ExecuteTime": {
     "end_time": "2020-06-12T20:27:09.803560Z",
     "start_time": "2020-06-12T20:27:09.770516Z"
    }
   },
   "outputs": [],
   "source": [
    "ds.cf.describe()"
   ]
  },
  {
   "cell_type": "markdown",
   "metadata": {},
   "source": [
    "For `pop`, only `latitude` and `longitude` are detected, not `X` or `Y`. Please comment here: https://github.com/xarray-contrib/cf-xarray/issues/23 if you have opinions about this behaviour."
   ]
  },
  {
   "cell_type": "code",
   "execution_count": null,
   "metadata": {
    "ExecuteTime": {
     "end_time": "2020-06-12T20:41:54.117735Z",
     "start_time": "2020-06-12T20:41:54.087549Z"
    }
   },
   "outputs": [],
   "source": [
    "pop.cf.describe()"
   ]
  },
  {
   "cell_type": "markdown",
   "metadata": {},
   "source": [
    "# Features"
   ]
  },
  {
   "cell_type": "markdown",
   "metadata": {},
   "source": [
    "## Accessing coordinate variables\n",
    "\n",
    "`.cf` implements `__getitem__` to allow easy access to coordinate and axis variables."
   ]
  },
  {
   "cell_type": "code",
   "execution_count": null,
   "metadata": {
    "ExecuteTime": {
     "end_time": "2020-06-12T20:41:57.554031Z",
     "start_time": "2020-06-12T20:41:57.504506Z"
    }
   },
   "outputs": [],
   "source": [
    "ds.cf[\"X\"]"
   ]
  },
  {
   "cell_type": "markdown",
   "metadata": {},
   "source": [
    "`Dataset.cf[...]` returns a `Dataset`, possibly with multiple variables"
   ]
  },
  {
   "cell_type": "code",
   "execution_count": null,
   "metadata": {
    "ExecuteTime": {
     "end_time": "2020-06-12T20:42:02.439458Z",
     "start_time": "2020-06-12T20:42:02.364630Z"
    }
   },
   "outputs": [],
   "source": [
    "pop.cf[\"longitude\"]"
   ]
  },
  {
   "cell_type": "markdown",
   "metadata": {},
   "source": [
    "`DataArray.cf[...]` returns a single `DataArray`, parsing the `coordinates` attribute if present, so we correctly get the `TLONG` variable and not the `ULONG` variable"
   ]
  },
  {
   "cell_type": "code",
   "execution_count": null,
   "metadata": {
    "ExecuteTime": {
     "end_time": "2020-06-12T20:43:09.230608Z",
     "start_time": "2020-06-12T20:43:09.189175Z"
    }
   },
   "outputs": [],
   "source": [
    "pop.TEMP.cf[\"longitude\"]"
   ]
  },
  {
   "cell_type": "markdown",
   "metadata": {},
   "source": [
    "## Rewriting arguments\n",
    "\n",
    "`cf_xarray` can rewrite arguments for a large number of xarray functions. By this I mean that instead of specifing say `dim=\"lon\"`, you can pass `dim=\"X\"` or `dim=\"longitude\"` and `cf_xarray` will rewrite that to `dim=\"lon\"` based on the attributes present in the dataset. \n",
    "\n",
    "Here are a few examples"
   ]
  },
  {
   "cell_type": "markdown",
   "metadata": {},
   "source": [
    "### Slicing"
   ]
  },
  {
   "cell_type": "code",
   "execution_count": null,
   "metadata": {
    "ExecuteTime": {
     "end_time": "2020-06-12T20:28:53.616306Z",
     "start_time": "2020-06-12T20:28:53.562495Z"
    }
   },
   "outputs": [],
   "source": [
    "ds.air.cf.isel(T=1)"
   ]
  },
  {
   "cell_type": "markdown",
   "metadata": {},
   "source": [
    "### Plotting"
   ]
  },
  {
   "cell_type": "code",
   "execution_count": null,
   "metadata": {
    "ExecuteTime": {
     "end_time": "2020-06-12T20:28:59.835481Z",
     "start_time": "2020-06-12T20:28:59.603378Z"
    }
   },
   "outputs": [],
   "source": [
    "ds.air.cf.isel(time=1).cf.plot(x=\"X\", y=\"Y\")"
   ]
  },
  {
   "cell_type": "code",
   "execution_count": null,
   "metadata": {
    "ExecuteTime": {
     "end_time": "2020-06-12T20:30:26.160180Z",
     "start_time": "2020-06-12T20:30:25.980074Z"
    }
   },
   "outputs": [],
   "source": [
    "ds.air.cf.isel(T=1, Y=[0, 1, 2]).cf.plot(x=\"longitude\", hue=\"latitude\")"
   ]
  },
  {
   "cell_type": "markdown",
   "metadata": {},
   "source": [
    "`cf_xarray` can facet"
   ]
  },
  {
   "cell_type": "code",
   "execution_count": null,
   "metadata": {
    "ExecuteTime": {
     "end_time": "2020-06-12T20:49:14.502662Z",
     "start_time": "2020-06-12T20:49:14.002534Z"
    }
   },
   "outputs": [],
   "source": [
    "ds.air.isel(time=slice(4)).cf.plot(x=\"longitude\", y=\"latitude\", col=\"time\")"
   ]
  },
  {
   "cell_type": "markdown",
   "metadata": {},
   "source": [
    "### Resample & groupby"
   ]
  },
  {
   "cell_type": "code",
   "execution_count": null,
   "metadata": {
    "ExecuteTime": {
     "end_time": "2020-06-12T20:29:50.966391Z",
     "start_time": "2020-06-12T20:29:50.317513Z"
    }
   },
   "outputs": [],
   "source": [
    "ds.cf.resample(T=\"D\").mean()"
   ]
  },
  {
   "cell_type": "code",
   "execution_count": null,
   "metadata": {
    "ExecuteTime": {
     "end_time": "2020-06-12T20:30:55.508515Z",
     "start_time": "2020-06-12T20:30:55.433502Z"
    }
   },
   "outputs": [],
   "source": [
    "ds.cf.groupby(\"time.month\").mean(\"longitude\")"
   ]
  },
  {
   "cell_type": "markdown",
   "metadata": {},
   "source": [
    "### Rolling & coarsen "
   ]
  },
  {
   "cell_type": "code",
   "execution_count": null,
   "metadata": {
    "ExecuteTime": {
     "end_time": "2020-06-12T20:31:11.369963Z",
     "start_time": "2020-06-12T20:31:11.240738Z"
    }
   },
   "outputs": [],
   "source": [
    "ds.cf.rolling(X=5).mean()"
   ]
  },
  {
   "cell_type": "markdown",
   "metadata": {
    "ExecuteTime": {
     "end_time": "2020-06-12T20:31:46.708776Z",
     "start_time": "2020-06-12T20:31:46.525974Z"
    }
   },
   "source": [
    "coarsen works but eberything later will break because of xarray bug https://github.com/pydata/xarray/issues/4120\n",
    "\n",
    "ds.isel(lon=slice(50)).cf.coarsen(Y=5, X=10).mean()"
   ]
  },
  {
   "cell_type": "markdown",
   "metadata": {},
   "source": [
    "### miscellaneous features\n",
    "\n",
    "You can mix \"special names\" and variable names"
   ]
  },
  {
   "cell_type": "code",
   "execution_count": null,
   "metadata": {
    "ExecuteTime": {
     "end_time": "2020-06-12T20:34:38.685926Z",
     "start_time": "2020-06-12T20:34:38.627758Z"
    }
   },
   "outputs": [],
   "source": [
    "ds.cf.groupby(\"time.month\").mean([\"lat\", \"X\"])"
   ]
  },
  {
   "cell_type": "markdown",
   "metadata": {},
   "source": [
    "## Augmented functionality\n",
    "\n",
    "### Cell Measures\n",
    "\n",
    "`cf_xarray` can weight by cell measure variables `\"area\"` and `\"volume\"` if the appropriate attribute is set"
   ]
  },
  {
   "cell_type": "code",
   "execution_count": null,
   "metadata": {
    "ExecuteTime": {
     "end_time": "2020-06-12T20:47:31.384370Z",
     "start_time": "2020-06-12T20:47:31.347731Z"
    }
   },
   "outputs": [],
   "source": [
    "# Lets make some weights (not sure if this is right)\n",
    "ds.coords[\"cell_area\"] = (\n",
    "    np.cos(ds.air.cf[\"latitude\"] * np.pi / 180)\n",
    "    * xr.ones_like(ds.air.cf[\"longitude\"])\n",
    "    * 105e3\n",
    "    * 110e3\n",
    ")\n",
    "# and set proper attributes\n",
    "ds.air.attrs[\"cell_measures\"] = \"area: cell_area\""
   ]
  },
  {
   "cell_type": "code",
   "execution_count": null,
   "metadata": {
    "ExecuteTime": {
     "end_time": "2020-06-12T20:47:08.559480Z",
     "start_time": "2020-06-12T20:47:08.371283Z"
    }
   },
   "outputs": [],
   "source": [
    "ds.air.cf.weighted(\"area\").mean([\"latitude\", \"time\"]).cf.plot(x=\"longitude\")\n",
    "ds.air.mean([\"lat\", \"time\"]).cf.plot(x=\"longitude\")"
   ]
  }
 ],
 "metadata": {
  "kernelspec": {
   "display_name": "Python 3",
   "language": "python",
   "name": "python3"
  },
  "language_info": {
   "codemirror_mode": {
    "name": "ipython",
    "version": 3
   },
   "file_extension": ".py",
   "mimetype": "text/x-python",
   "name": "python",
   "nbconvert_exporter": "python",
   "pygments_lexer": "ipython3",
   "version": "3.7.6"
  },
  "toc": {
   "base_numbering": 1,
   "nav_menu": {},
   "number_sections": true,
   "sideBar": true,
   "skip_h1_title": false,
   "title_cell": "Table of Contents",
   "title_sidebar": "Contents",
   "toc_cell": true,
   "toc_position": {},
   "toc_section_display": true,
   "toc_window_display": true
  }
 },
 "nbformat": 4,
 "nbformat_minor": 4
}
