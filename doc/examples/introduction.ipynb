{
 "cells": [
  {
   "cell_type": "markdown",
   "metadata": {},
   "source": [
    "# Introduction to `cf_xarray`\n",
    "\n",
    "This notebook is a brief introduction to `cf_xarray`'s current capabilities."
   ]
  },
  {
   "cell_type": "code",
   "execution_count": null,
   "metadata": {
    "ExecuteTime": {
     "end_time": "2020-06-30T23:25:30.534525Z",
     "start_time": "2020-06-30T23:25:29.588662Z"
    }
   },
   "outputs": [],
   "source": [
    "import cf_xarray\n",
    "import numpy as np\n",
    "import xarray as xr"
   ]
  },
  {
   "cell_type": "markdown",
   "metadata": {},
   "source": [
    "Lets read two datasets."
   ]
  },
  {
   "cell_type": "code",
   "execution_count": null,
   "metadata": {
    "ExecuteTime": {
     "end_time": "2020-06-30T23:25:30.589498Z",
     "start_time": "2020-06-30T23:25:30.536512Z"
    }
   },
   "outputs": [],
   "source": [
    "ds = xr.tutorial.load_dataset(\"air_temperature\")\n",
    "ds.air.attrs[\"standard_name\"] = \"air_temperature\"\n",
    "ds"
   ]
  },
  {
   "cell_type": "markdown",
   "metadata": {},
   "source": [
    "This one is inspired by POP model output and illustrates how the coordinates attribute is interpreted"
   ]
  },
  {
   "cell_type": "code",
   "execution_count": null,
   "metadata": {
    "ExecuteTime": {
     "end_time": "2020-06-30T23:25:30.651949Z",
     "start_time": "2020-06-30T23:25:30.591221Z"
    }
   },
   "outputs": [],
   "source": [
    "pop = xr.Dataset()\n",
    "pop.coords[\"TLONG\"] = ((\"nlat\", \"nlon\"), np.ones((20, 30)), {\"units\": \"degrees_east\"})\n",
    "pop.coords[\"TLAT\"] = ((\"nlat\", \"nlon\"), 2 * np.ones((20, 30)), {\"units\": \"degrees_north\"})\n",
    "pop.coords[\"ULONG\"] = ((\"nlat\", \"nlon\"), 0.5 * np.ones((20, 30)), {\"units\": \"degrees_east\"})\n",
    "pop.coords[\"ULAT\"] = ((\"nlat\", \"nlon\"), 2.5 * np.ones((20, 30)), {\"units\": \"degrees_north\"})\n",
    "\n",
    "pop[\"UVEL\"] = (\n",
    "    (\"nlat\", \"nlon\"),\n",
    "    np.ones((20, 30)) * 15,\n",
    "    {\"coordinates\": \"ULONG ULAT\", \"standard_name\": \"sea_water_x_velocity\"},\n",
    ")\n",
    "pop[\"TEMP\"] = (\n",
    "    (\"nlat\", \"nlon\"),\n",
    "    np.ones((20, 30)) * 15,\n",
    "    {\"coordinates\": \"TLONG TLAT\", \"standard_name\": \"sea_water_potential_temperature\"},\n",
    ")\n",
    "pop"
   ]
  },
  {
   "cell_type": "markdown",
   "metadata": {},
   "source": [
    "This synthetic dataset has multiple `X` and `Y` coords. An example would be model output on a staggered grid."
   ]
  },
  {
   "cell_type": "code",
   "execution_count": null,
   "metadata": {
    "ExecuteTime": {
     "end_time": "2020-06-30T23:25:30.702175Z",
     "start_time": "2020-06-30T23:25:30.653445Z"
    }
   },
   "outputs": [],
   "source": [
    "multiple = xr.Dataset()\n",
    "multiple.coords[\"x1\"] = (\"x1\", range(30), {\"axis\": \"X\"})\n",
    "multiple.coords[\"y1\"] = (\"y1\", range(20), {\"axis\": \"Y\"})\n",
    "multiple.coords[\"x2\"] = (\"x2\", range(10), {\"axis\": \"X\"})\n",
    "multiple.coords[\"y2\"] = (\"y2\", range(5), {\"axis\": \"Y\"})\n",
    "\n",
    "multiple[\"v1\"] = ((\"x1\", \"y1\"), np.ones((30, 20)) * 15)\n",
    "multiple[\"v2\"] = ((\"x2\", \"y2\"), np.ones((10, 5)) * 15)\n",
    "multiple"
   ]
  },
  {
   "cell_type": "code",
   "execution_count": null,
   "metadata": {
    "ExecuteTime": {
     "end_time": "2020-06-30T23:25:30.738840Z",
     "start_time": "2020-06-30T23:25:30.703397Z"
    }
   },
   "outputs": [],
   "source": [
    "# This dataset has ancillary variables\n",
    "\n",
    "anc = xr.Dataset()\n",
    "anc[\"q\"] = (\n",
    "    (\"x\", \"y\"),\n",
    "    np.random.randn(10, 20),\n",
    "    dict(\n",
    "        standard_name=\"specific_humidity\",\n",
    "        units=\"g/g\",\n",
    "        ancillary_variables=\"q_error_limit q_detection_limit\",\n",
    "    ),\n",
    ")\n",
    "anc[\"q_error_limit\"] = (\n",
    "    (\"x\", \"y\"),\n",
    "    np.random.randn(10, 20),\n",
    "    dict(standard_name=\"specific_humidity standard_error\", units=\"g/g\"),\n",
    ")\n",
    "anc[\"q_detection_limit\"] = xr.DataArray(\n",
    "    1e-3, attrs=dict(standard_name=\"specific_humidity detection_minimum\", units=\"g/g\"),\n",
    ")\n",
    "anc"
   ]
  },
  {
   "cell_type": "markdown",
   "metadata": {},
   "source": [
    "## What attributes have been discovered?"
   ]
  },
  {
   "cell_type": "code",
   "execution_count": null,
   "metadata": {
    "ExecuteTime": {
     "end_time": "2020-06-30T23:25:30.765720Z",
     "start_time": "2020-06-30T23:25:30.740611Z"
    }
   },
   "outputs": [],
   "source": [
    "ds.lon"
   ]
  },
  {
   "cell_type": "markdown",
   "metadata": {},
   "source": [
    "`ds.lon` has attributes `axis: X`. This means that `cf_xarray` can identify the `'X'` axis as being represented by the `lon` variable.\n",
    "\n",
    "It can also use the `standard_name` and `units` attributes to infer that `lon` is \"Longitude\". To see variable names that `cf_xarray` can infer, use `.cf.describe()`"
   ]
  },
  {
   "cell_type": "code",
   "execution_count": null,
   "metadata": {
    "ExecuteTime": {
     "end_time": "2020-06-30T23:25:30.784623Z",
     "start_time": "2020-06-30T23:25:30.766855Z"
    }
   },
   "outputs": [],
   "source": [
    "ds.cf.describe()"
   ]
  },
  {
   "cell_type": "markdown",
   "metadata": {},
   "source": [
    "For `pop`, only `latitude` and `longitude` are detected, not `X` or `Y`. Please comment here: https://github.com/xarray-contrib/cf-xarray/issues/23 if you have opinions about this behaviour."
   ]
  },
  {
   "cell_type": "code",
   "execution_count": null,
   "metadata": {
    "ExecuteTime": {
     "end_time": "2020-06-30T23:25:30.808990Z",
     "start_time": "2020-06-30T23:25:30.786547Z"
    }
   },
   "outputs": [],
   "source": [
    "pop.cf.describe()"
   ]
  },
  {
   "cell_type": "markdown",
   "metadata": {},
   "source": [
    "For `multiple`, multiple `X` and `Y` coordinates are detected"
   ]
  },
  {
   "cell_type": "code",
   "execution_count": null,
   "metadata": {
    "ExecuteTime": {
     "end_time": "2020-06-30T23:25:30.831925Z",
     "start_time": "2020-06-30T23:25:30.811491Z"
    }
   },
   "outputs": [],
   "source": [
    "multiple.cf.describe()"
   ]
  },
  {
   "cell_type": "markdown",
   "metadata": {},
   "source": [
    "## Feature: Accessing coordinate variables\n",
    "\n",
    "`.cf` implements `__getitem__` to allow easy access to coordinate and axis variables."
   ]
  },
  {
   "cell_type": "code",
   "execution_count": null,
   "metadata": {
    "ExecuteTime": {
     "end_time": "2020-06-30T23:25:30.853404Z",
     "start_time": "2020-06-30T23:25:30.833017Z"
    }
   },
   "outputs": [],
   "source": [
    "ds.cf[\"X\"]"
   ]
  },
  {
   "cell_type": "code",
   "execution_count": null,
   "metadata": {
    "ExecuteTime": {
     "end_time": "2020-06-30T23:25:30.874348Z",
     "start_time": "2020-06-30T23:25:30.854712Z"
    }
   },
   "outputs": [],
   "source": [
    "# Dataset always return Datasets since there can be multiple x variables\n",
    "ds.cf[\"X\"]"
   ]
  },
  {
   "cell_type": "code",
   "execution_count": null,
   "metadata": {
    "ExecuteTime": {
     "end_time": "2020-06-30T23:25:30.908034Z",
     "start_time": "2020-06-30T23:25:30.875711Z"
    },
    "scrolled": true
   },
   "outputs": [],
   "source": [
    "multiple.cf[\"X\"]"
   ]
  },
  {
   "cell_type": "markdown",
   "metadata": {},
   "source": [
    "`Dataset.cf[...]` returns a `Dataset`, possibly with multiple variables"
   ]
  },
  {
   "cell_type": "code",
   "execution_count": null,
   "metadata": {
    "ExecuteTime": {
     "end_time": "2020-06-30T23:25:30.938350Z",
     "start_time": "2020-06-30T23:25:30.909227Z"
    }
   },
   "outputs": [],
   "source": [
    "# DataArrays return DataArrays\n",
    "pop.UVEL.cf[\"longitude\"]"
   ]
  },
  {
   "cell_type": "markdown",
   "metadata": {},
   "source": [
    "`Dataset.cf[...]` returns a single `DataArray`, parsing the `coordinates` attribute if present, so we correctly get the `TLONG` variable and not the `ULONG` variable"
   ]
  },
  {
   "cell_type": "code",
   "execution_count": null,
   "metadata": {
    "ExecuteTime": {
     "end_time": "2020-06-30T23:25:30.999763Z",
     "start_time": "2020-06-30T23:25:30.939502Z"
    },
    "scrolled": true
   },
   "outputs": [],
   "source": [
    "pop.cf[\"TEMP\"]"
   ]
  },
  {
   "cell_type": "markdown",
   "metadata": {},
   "source": [
    "`Dataset.cf[...]` also interprets the `ancillary_variables` attribute. The ancillary variables are returned as coordinates of a DataArray"
   ]
  },
  {
   "cell_type": "code",
   "execution_count": null,
   "metadata": {
    "ExecuteTime": {
     "end_time": "2020-06-30T23:25:31.050027Z",
     "start_time": "2020-06-30T23:25:31.000741Z"
    }
   },
   "outputs": [],
   "source": [
    "anc.cf[\"q\"]"
   ]
  },
  {
   "cell_type": "markdown",
   "metadata": {},
   "source": [
    "## Feature: Accessing variables by standard names"
   ]
  },
  {
   "cell_type": "code",
   "execution_count": null,
   "metadata": {
    "ExecuteTime": {
     "end_time": "2020-06-30T23:25:31.150885Z",
     "start_time": "2020-06-30T23:25:31.052008Z"
    }
   },
   "outputs": [],
   "source": [
    "pop.cf[[\"sea_water_potential_temperature\", \"UVEL\"]]"
   ]
  },
  {
   "cell_type": "code",
   "execution_count": null,
   "metadata": {
    "ExecuteTime": {
     "end_time": "2020-06-30T23:25:31.185257Z",
     "start_time": "2020-06-30T23:25:31.152549Z"
    }
   },
   "outputs": [],
   "source": [
    "anc.cf[\"specific_humidity\"]"
   ]
  },
  {
   "cell_type": "markdown",
   "metadata": {},
   "source": [
    "## Feature: Utility functions\n",
    "\n",
    "\n",
    "There are some utility functions to allow use by downstream libraries"
   ]
  },
  {
   "cell_type": "code",
   "execution_count": null,
   "metadata": {
    "ExecuteTime": {
     "end_time": "2020-06-30T23:25:31.205009Z",
     "start_time": "2020-06-30T23:25:31.186385Z"
    }
   },
   "outputs": [],
   "source": [
    "pop.cf.get_valid_keys()"
   ]
  },
  {
   "cell_type": "markdown",
   "metadata": {},
   "source": [
    "## Feature: Rewriting property dictionaries\n",
    "\n",
    "`cf_xarray` will rewrite the `.sizes` and `.chunks` dictionaries so that one can index by a special CF axis or coordinate name"
   ]
  },
  {
   "cell_type": "code",
   "execution_count": null,
   "metadata": {},
   "outputs": [],
   "source": [
    "ds.cf.sizes"
   ]
  },
  {
   "cell_type": "markdown",
   "metadata": {},
   "source": [
    "Note the duplicate entries above:\n",
    "\n",
    "1. One for `X`, `Y`, `T`\n",
    "2. and one for `longitude`, `latitude` and `time`.\n",
    "\n",
    "An error is raised if there are multiple `'X'` variables (for example)"
   ]
  },
  {
   "cell_type": "code",
   "execution_count": null,
   "metadata": {
    "tags": [
     "raises-exception"
    ]
   },
   "outputs": [],
   "source": [
    "multiple.cf.sizes"
   ]
  },
  {
   "cell_type": "code",
   "execution_count": null,
   "metadata": {},
   "outputs": [],
   "source": [
    "multiple.v1.cf.sizes"
   ]
  },
  {
   "cell_type": "markdown",
   "metadata": {},
   "source": [
    "## Feature: Rewriting arguments\n",
    "\n",
    "`cf_xarray` can rewrite arguments for a large number of xarray functions. By this I mean that instead of specifing say `dim=\"lon\"`, you can pass `dim=\"X\"` or `dim=\"longitude\"` and `cf_xarray` will rewrite that to `dim=\"lon\"` based on the attributes present in the dataset. \n",
    "\n",
    "Here are a few examples"
   ]
  },
  {
   "cell_type": "markdown",
   "metadata": {},
   "source": [
    "### Slicing"
   ]
  },
  {
   "cell_type": "code",
   "execution_count": null,
   "metadata": {
    "ExecuteTime": {
     "end_time": "2020-06-30T23:25:31.241228Z",
     "start_time": "2020-06-30T23:25:31.206075Z"
    }
   },
   "outputs": [],
   "source": [
    "ds.air.cf.isel(T=1)"
   ]
  },
  {
   "cell_type": "markdown",
   "metadata": {},
   "source": [
    "Slicing works will expand a single key like `X` to multiple dimensions if those dimensions are tagged with `axis: X`"
   ]
  },
  {
   "cell_type": "code",
   "execution_count": null,
   "metadata": {
    "ExecuteTime": {
     "end_time": "2020-06-30T23:25:31.263144Z",
     "start_time": "2020-06-30T23:25:31.242411Z"
    }
   },
   "outputs": [],
   "source": [
    "multiple.cf.isel(X=1, Y=1)"
   ]
  },
  {
   "cell_type": "markdown",
   "metadata": {},
   "source": [
    "### Reductions"
   ]
  },
  {
   "cell_type": "code",
   "execution_count": null,
   "metadata": {
    "ExecuteTime": {
     "end_time": "2020-06-30T23:25:31.316816Z",
     "start_time": "2020-06-30T23:25:31.264832Z"
    }
   },
   "outputs": [],
   "source": [
    "ds.air.cf.mean(\"X\")"
   ]
  },
  {
   "cell_type": "markdown",
   "metadata": {},
   "source": [
    "Expanding to multiple dimensions is also supported"
   ]
  },
  {
   "cell_type": "code",
   "execution_count": null,
   "metadata": {
    "ExecuteTime": {
     "end_time": "2020-06-30T23:25:31.355791Z",
     "start_time": "2020-06-30T23:25:31.318494Z"
    }
   },
   "outputs": [],
   "source": [
    "# takes the mean along [\"x1\", \"x2\"]\n",
    "multiple.cf.mean(\"X\")"
   ]
  },
  {
   "cell_type": "markdown",
   "metadata": {},
   "source": [
    "### Plotting"
   ]
  },
  {
   "cell_type": "code",
   "execution_count": null,
   "metadata": {
    "ExecuteTime": {
     "end_time": "2020-06-30T23:25:31.773401Z",
     "start_time": "2020-06-30T23:25:31.356780Z"
    }
   },
   "outputs": [],
   "source": [
    "ds.air.cf.isel(time=1).cf.plot(x=\"X\", y=\"Y\")"
   ]
  },
  {
   "cell_type": "code",
   "execution_count": null,
   "metadata": {
    "ExecuteTime": {
     "end_time": "2020-06-30T23:25:31.950102Z",
     "start_time": "2020-06-30T23:25:31.774927Z"
    }
   },
   "outputs": [],
   "source": [
    "ds.air.cf.isel(T=1, Y=[0, 1, 2]).cf.plot(x=\"longitude\", hue=\"latitude\")"
   ]
  },
  {
   "cell_type": "markdown",
   "metadata": {},
   "source": [
    "`cf_xarray` can facet"
   ]
  },
  {
   "cell_type": "code",
   "execution_count": null,
   "metadata": {
    "ExecuteTime": {
     "end_time": "2020-06-30T23:25:32.429977Z",
     "start_time": "2020-06-30T23:25:31.951116Z"
    }
   },
   "outputs": [],
   "source": [
    "ds.air.isel(time=slice(4)).cf.plot(x=\"longitude\", y=\"latitude\", col=\"time\")"
   ]
  },
  {
   "cell_type": "markdown",
   "metadata": {},
   "source": [
    "### Resample & groupby"
   ]
  },
  {
   "cell_type": "code",
   "execution_count": null,
   "metadata": {
    "ExecuteTime": {
     "end_time": "2020-06-30T23:25:33.035768Z",
     "start_time": "2020-06-30T23:25:32.432049Z"
    }
   },
   "outputs": [],
   "source": [
    "ds.cf.resample(T=\"D\").mean()"
   ]
  },
  {
   "cell_type": "code",
   "execution_count": null,
   "metadata": {
    "ExecuteTime": {
     "end_time": "2020-06-30T23:25:33.106698Z",
     "start_time": "2020-06-30T23:25:33.037746Z"
    }
   },
   "outputs": [],
   "source": [
    "ds.cf.groupby(\"time.month\").mean(\"longitude\")"
   ]
  },
  {
   "cell_type": "markdown",
   "metadata": {},
   "source": [
    "### Rolling & coarsen "
   ]
  },
  {
   "cell_type": "code",
   "execution_count": null,
   "metadata": {
    "ExecuteTime": {
     "end_time": "2020-06-30T23:25:33.163025Z",
     "start_time": "2020-06-30T23:25:33.108117Z"
    }
   },
   "outputs": [],
   "source": [
    "ds.cf.rolling(X=5).mean()"
   ]
  },
  {
   "cell_type": "markdown",
   "metadata": {
    "ExecuteTime": {
     "end_time": "2020-06-12T20:31:46.708776Z",
     "start_time": "2020-06-12T20:31:46.525974Z"
    }
   },
   "source": [
    "``coarsen`` works but everything later will break because of xarray bug https://github.com/pydata/xarray/issues/4120\n",
    "\n",
    "``ds.isel(lon=slice(50)).cf.coarsen(Y=5, X=10).mean()``"
   ]
  },
  {
   "cell_type": "markdown",
   "metadata": {},
   "source": [
    "## Feature: mix \"special names\" and variable names"
   ]
  },
  {
   "cell_type": "code",
   "execution_count": null,
   "metadata": {
    "ExecuteTime": {
     "end_time": "2020-06-30T23:25:33.212324Z",
     "start_time": "2020-06-30T23:25:33.164373Z"
    }
   },
   "outputs": [],
   "source": [
    "ds.cf.groupby(\"time.month\").mean([\"lat\", \"X\"])"
   ]
  },
  {
   "cell_type": "markdown",
   "metadata": {},
   "source": [
    "## Feature: Weight by Cell Measures\n",
    "\n",
    "`cf_xarray` can weight by cell measure variables `\"area\"` and `\"volume\"` if the appropriate attribute is set"
   ]
  },
  {
   "cell_type": "code",
   "execution_count": null,
   "metadata": {
    "ExecuteTime": {
     "end_time": "2020-06-30T23:25:33.230790Z",
     "start_time": "2020-06-30T23:25:33.213660Z"
    }
   },
   "outputs": [],
   "source": [
    "# Lets make some weights (not sure if this is right)\n",
    "ds.coords[\"cell_area\"] = (\n",
    "    np.cos(ds.air.cf[\"latitude\"] * np.pi / 180)\n",
    "    * xr.ones_like(ds.air.cf[\"longitude\"])\n",
    "    * 105e3\n",
    "    * 110e3\n",
    ")\n",
    "# and set proper attributes\n",
    "ds.air.attrs[\"cell_measures\"] = \"area: cell_area\""
   ]
  },
  {
   "cell_type": "code",
   "execution_count": null,
   "metadata": {
    "ExecuteTime": {
     "end_time": "2020-06-30T23:25:33.411012Z",
     "start_time": "2020-06-30T23:25:33.232194Z"
    }
   },
   "outputs": [],
   "source": [
    "ds.air.cf.weighted(\"area\").mean([\"latitude\", \"time\"]).cf.plot(x=\"longitude\")\n",
    "ds.air.mean([\"lat\", \"time\"]).cf.plot(x=\"longitude\")"
   ]
  }
 ],
 "metadata": {
  "kernelspec": {
   "display_name": "Python 3",
   "language": "python",
   "name": "python3"
  },
  "language_info": {
   "codemirror_mode": {
    "name": "ipython",
    "version": 3
   },
   "file_extension": ".py",
   "mimetype": "text/x-python",
   "name": "python",
   "nbconvert_exporter": "python",
   "pygments_lexer": "ipython3",
   "version": "3.7.6"
  },
  "toc": {
   "base_numbering": 1,
   "nav_menu": {},
   "number_sections": true,
   "sideBar": true,
   "skip_h1_title": false,
   "title_cell": "Table of Contents",
   "title_sidebar": "Contents",
   "toc_cell": true,
   "toc_position": {},
   "toc_section_display": true,
   "toc_window_display": true
  }
 },
 "nbformat": 4,
 "nbformat_minor": 4
}
